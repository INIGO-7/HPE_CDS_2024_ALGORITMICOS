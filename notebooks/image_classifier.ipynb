{
 "cells": [
  {
   "cell_type": "code",
   "execution_count": null,
   "metadata": {},
   "outputs": [],
   "source": [
    "from fastai.vision.all import *\n",
    "from fastai.learner import load_learner\n",
    "import PIL\n",
    "import os"
   ]
  },
  {
   "cell_type": "code",
   "execution_count": null,
   "metadata": {},
   "outputs": [],
   "source": [
    "RES_PATH = \"../res\"\n",
    "MODELS_PATH = os.path.join(RES_PATH, \"models\")\n",
    "IMG_PATH = os.path.join(RES_PATH, \"img\")\n",
    "RESNET_MODEL_PATH = os.path.join(MODELS_PATH, os.path.join(\"resnet\", \"model.pkl\"))\n",
    "TEST_IMG_PATH = os.path.join(IMG_PATH, \"moraton.jpeg\")"
   ]
  },
  {
   "cell_type": "code",
   "execution_count": null,
   "metadata": {},
   "outputs": [],
   "source": [
    "learn = load_learner(RESNET_MODEL_PATH)\n",
    "img = PILImage.create(TEST_IMG_PATH)  # Load the image\n",
    "img_resized = img.resize((224, 224), Image.BILINEAR)  # Resize the image to match the input size expected by the model"
   ]
  },
  {
   "cell_type": "code",
   "execution_count": null,
   "metadata": {},
   "outputs": [],
   "source": [
    "# Perform inference on the image\n",
    "pred_class, pred_idx, outputs = learn.predict(img)"
   ]
  },
  {
   "cell_type": "code",
   "execution_count": null,
   "metadata": {},
   "outputs": [],
   "source": [
    "# Display the image with the predicted class label\n",
    "plt.imshow(img)\n",
    "plt.title(f'Predicted Class: {pred_class}')\n",
    "plt.axis('off')\n",
    "plt.show()"
   ]
  }
 ],
 "metadata": {
  "kernelspec": {
   "display_name": "wounds_hp",
   "language": "python",
   "name": "python3"
  },
  "language_info": {
   "codemirror_mode": {
    "name": "ipython",
    "version": 3
   },
   "file_extension": ".py",
   "mimetype": "text/x-python",
   "name": "python",
   "nbconvert_exporter": "python",
   "pygments_lexer": "ipython3",
   "version": "3.12.2"
  }
 },
 "nbformat": 4,
 "nbformat_minor": 2
}
