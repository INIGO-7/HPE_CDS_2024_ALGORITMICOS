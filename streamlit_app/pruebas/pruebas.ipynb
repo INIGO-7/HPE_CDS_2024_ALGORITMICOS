{
 "cells": [
  {
   "cell_type": "code",
   "execution_count": 4,
   "metadata": {},
   "outputs": [
    {
     "name": "stdout",
     "output_type": "stream",
     "text": [
      "{\"generated_text\":\" Many things could be causing elbow pain after a bicycle accident, so it's important to get a proper diagnosis from a healthcare professional. However, I can suggest a few things that may help with the pain and swelling in the meantime.\\n\\n1. Rest and ice: Give your elbow time to heal by avoiding any heavy lifting or strenuous activities. Apply an ice pack to the elbow for 15-20 minutes at a time, several times a day.\\n2\"}"
     ]
    }
   ],
   "source": [
    "! curl -X POST \"http://10.10.6.10:8081/generate\" -H \"Content-Type: application/json\" -d \"{\\\"inputs\\\": \\\"i have fell off my bicicle and my elbow hurts a lot, what can i do?\\\"}\""
   ]
  },
  {
   "cell_type": "code",
   "execution_count": null,
   "metadata": {},
   "outputs": [],
   "source": []
  },
  {
   "cell_type": "code",
   "execution_count": null,
   "metadata": {},
   "outputs": [],
   "source": []
  },
  {
   "cell_type": "code",
   "execution_count": null,
   "metadata": {},
   "outputs": [],
   "source": []
  }
 ],
 "metadata": {
  "kernelspec": {
   "display_name": "HPE_Hackaton",
   "language": "python",
   "name": "python3"
  },
  "language_info": {
   "codemirror_mode": {
    "name": "ipython",
    "version": 3
   },
   "file_extension": ".py",
   "mimetype": "text/x-python",
   "name": "python",
   "nbconvert_exporter": "python",
   "pygments_lexer": "ipython3",
   "version": "3.12.3"
  }
 },
 "nbformat": 4,
 "nbformat_minor": 2
}
